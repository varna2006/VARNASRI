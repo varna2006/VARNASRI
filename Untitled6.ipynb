{
  "nbformat": 4,
  "nbformat_minor": 0,
  "metadata": {
    "colab": {
      "provenance": [],
      "authorship_tag": "ABX9TyOjWJ5ruRZ+pRxTs4mosA9n",
      "include_colab_link": true
    },
    "kernelspec": {
      "name": "python3",
      "display_name": "Python 3"
    },
    "language_info": {
      "name": "python"
    }
  },
  "cells": [
    {
      "cell_type": "markdown",
      "metadata": {
        "id": "view-in-github",
        "colab_type": "text"
      },
      "source": [
        "<a href=\"https://colab.research.google.com/github/varna2006/VARNASRI/blob/main/Untitled6.ipynb\" target=\"_parent\"><img src=\"https://colab.research.google.com/assets/colab-badge.svg\" alt=\"Open In Colab\"/></a>"
      ]
    },
    {
      "cell_type": "code",
      "execution_count": 5,
      "metadata": {
        "id": "ucHCNAJrTh80"
      },
      "outputs": [],
      "source": [
        "# Import Libraries\n",
        "import pandas as pd\n",
        "import numpy as np\n",
        "import matplotlib.pyplot as plt\n",
        "import seaborn as sns\n",
        "from sklearn.preprocessing import MinMaxScaler, LabelEncoder\n",
        "from sklearn.model_selection import train_test_split\n",
        "from sklearn.ensemble import RandomForestClassifier\n",
        "from sklearn.metrics import classification_report, confusion_matrix, accuracy_score\n",
        "import warnings\n",
        "warnings.filterwarnings(\"ignore\")\n",
        "\n",
        "# 1. Data Collection & Cleaning\n",
        "df = pd.read_csv(\"assessments.csv\")\n",
        "df['date'].fillna(df['date'].median(), inplace=True)\n",
        "df.drop_duplicates(inplace=True)\n",
        "\n",
        "# 2. Exploratory Data Analysis (EDA)\n",
        "plt.figure(figsize=(6, 4))\n",
        "sns.countplot(data=df, x='assessment_type')\n",
        "plt.title(\"Distribution of Assessment Types\")\n",
        "plt.savefig(\"eda_assessment_type.png\")\n",
        "plt.close()\n",
        "\n",
        "plt.figure(figsize=(6, 4))\n",
        "sns.histplot(df['weight'], bins=10, kde=True)\n",
        "plt.title(\"Distribution of Assessment Weights\")\n",
        "plt.savefig(\"eda_weight_distribution.png\")\n",
        "plt.close()\n",
        "\n",
        "# 3. Feature Engineering\n",
        "def assessment_phase(day):\n",
        "    if day < 90:\n",
        "        return \"Early\"\n",
        "    elif day < 180:\n",
        "        return \"Mid\"\n",
        "    else:\n",
        "        return \"Late\"\n",
        "\n",
        "df['assessment_phase'] = df['date'].apply(assessment_phase)\n",
        "le = LabelEncoder()\n",
        "df['assessment_phase'] = le.fit_transform(df['assessment_phase'])\n",
        "df = pd.get_dummies(df, columns=['assessment_type', 'code_module', 'code_presentation'], drop_first=True)\n",
        "df['is_heavy'] = (df['weight'] >= 50).astype(int)\n",
        "scaler = MinMaxScaler()\n",
        "df['weight_norm'] = scaler.fit_transform(df[['weight']])\n",
        "\n",
        "X = df.drop(columns=['weight', 'id_assessment'])\n",
        "y = df['is_heavy']\n",
        "\n",
        "# 4. Model Development\n",
        "X_train, X_test, y_train, y_test = train_test_split(X, y, test_size=0.2, random_state=42)\n",
        "model = RandomForestClassifier(random_state=42)\n",
        "model.fit(X_train, y_train)\n",
        "y_pred = model.predict(X_test)\n",
        "\n",
        "# 5. Documentation & Reporting\n",
        "report = classification_report(y_test, y_pred)\n",
        "conf_matrix = confusion_matrix(y_test, y_pred)\n",
        "accuracy = accuracy_score(y_test, y_pred)\n",
        "\n",
        "with open(\"model_report.txt\", \"w\") as f:\n",
        "    f.write(\"Classification Report:\\n\")\n",
        "    f.write(report)\n",
        "    f.write(\"\\nConfusion Matrix:\\n\")\n",
        "    f.write(str(conf_matrix))\n",
        "    f.write(\"\\nAccuracy Score: {:.2f}\\n\".format(accuracy))\n",
        "\n",
        "# 6. Visualization of Results\n",
        "plt.figure(figsize=(5, 4))\n",
        "sns.heatmap(conf_matrix, annot=True, fmt='d', cmap='Blues')\n",
        "plt.title(\"Confusion Matrix\")\n",
        "plt.xlabel(\"Predicted\")\n",
        "plt.ylabel(\"Actual\")\n",
        "plt.savefig(\"confusion_matrix.png\")\n",
        "plt.close()"
      ]
    }
  ]
}